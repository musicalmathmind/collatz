{
 "cells": [
  {
   "cell_type": "code",
   "execution_count": 1,
   "metadata": {},
   "outputs": [],
   "source": [
    "import utils.collatz_construction as cc\n",
    "import utils.graphing as graphing\n",
    "\n",
    "graphing.point_size = 3"
   ]
  },
  {
   "cell_type": "markdown",
   "metadata": {},
   "source": [
    "Below is a graph of Collatz space. Currently 3x+3 options do not work, this is because there is a different set of allowed dropping times than 3x+1 and the software needs to suppor that."
   ]
  },
  {
   "cell_type": "code",
   "execution_count": 2,
   "metadata": {},
   "outputs": [
    {
     "name": "stdout",
     "output_type": "stream",
     "text": [
      "not enough values to unpack (expected 9, got 7)\n"
     ]
    },
    {
     "ename": "ValueError",
     "evalue": "not enough values to unpack (expected 9, got 7)",
     "output_type": "error",
     "traceback": [
      "\u001b[1;31m---------------------------------------------------------------------------\u001b[0m",
      "\u001b[1;31mValueError\u001b[0m                                Traceback (most recent call last)",
      "Cell \u001b[1;32mIn[2], line 6\u001b[0m\n\u001b[0;32m      4\u001b[0m \u001b[38;5;66;03m#----\u001b[39;00m\n\u001b[0;32m      5\u001b[0m options \u001b[38;5;241m=\u001b[39m cc\u001b[38;5;241m.\u001b[39mcreate_collatz_3x_plus_1_options()\n\u001b[1;32m----> 6\u001b[0m results \u001b[38;5;241m=\u001b[39m cc\u001b[38;5;241m.\u001b[39mgenerate_orbit_info_batch(up_to_n, options)\n\u001b[0;32m      7\u001b[0m points \u001b[38;5;241m=\u001b[39m []\n\u001b[0;32m      8\u001b[0m labels \u001b[38;5;241m=\u001b[39m []\n",
      "File \u001b[1;32mc:\\repos\\collatz\\utils\\collatz_construction.py:326\u001b[0m, in \u001b[0;36mgenerate_orbit_info_batch\u001b[1;34m(total, orbit_option)\u001b[0m\n\u001b[0;32m    324\u001b[0m \u001b[38;5;28;01mexcept\u001b[39;00m \u001b[38;5;167;01mException\u001b[39;00m \u001b[38;5;28;01mas\u001b[39;00m e:\n\u001b[0;32m    325\u001b[0m     \u001b[38;5;28mprint\u001b[39m(e)\n\u001b[1;32m--> 326\u001b[0m     \u001b[38;5;28;01mraise\u001b[39;00m e\n\u001b[0;32m    328\u001b[0m \u001b[38;5;28;01mreturn\u001b[39;00m results\n",
      "File \u001b[1;32mc:\\repos\\collatz\\utils\\collatz_construction.py:321\u001b[0m, in \u001b[0;36mgenerate_orbit_info_batch\u001b[1;34m(total, orbit_option)\u001b[0m\n\u001b[0;32m    318\u001b[0m \u001b[38;5;28;01mtry\u001b[39;00m:\n\u001b[0;32m    319\u001b[0m     \u001b[38;5;28;01mfor\u001b[39;00m n \u001b[38;5;129;01min\u001b[39;00m \u001b[38;5;28mrange\u001b[39m(orbit_option\u001b[38;5;241m.\u001b[39mmin_n, total):\n\u001b[0;32m    320\u001b[0m         \u001b[38;5;66;03m# Generate detailed orbit information for each number\u001b[39;00m\n\u001b[1;32m--> 321\u001b[0m         first_drop, first_orbit, orbit, stopping_mod, stopping_index, first_op_list, first_op_map, total_op_list, total_op_map \u001b[38;5;241m=\u001b[39m generate_orbit_info(\n\u001b[0;32m    322\u001b[0m             n, orbit_option, lookup_map, wheel_map, index_map)\n\u001b[0;32m    323\u001b[0m         results\u001b[38;5;241m.\u001b[39mappend(OrbitInfo(n, first_drop, first_orbit, orbit, stopping_mod, stopping_index, first_op_list, first_op_map, total_op_list, total_op_map))\n\u001b[0;32m    324\u001b[0m \u001b[38;5;28;01mexcept\u001b[39;00m \u001b[38;5;167;01mException\u001b[39;00m \u001b[38;5;28;01mas\u001b[39;00m e:\n",
      "\u001b[1;31mValueError\u001b[0m: not enough values to unpack (expected 9, got 7)"
     ]
    }
   ],
   "source": [
    "options = cc.create_collatz_3x_plus_1_options()\n",
    "# options = cc.create_collatz_3x_plus_3_options()\n",
    "up_to_n = 1000 \n",
    "#----\n",
    "options = cc.create_collatz_3x_plus_1_options()\n",
    "results = cc.generate_orbit_info_batch(up_to_n, options)\n",
    "points = []\n",
    "labels = []\n",
    "colors = []\n",
    "for info in results:\n",
    "    p = (info.first_drop, info.stop_mod, info.stop_index)\n",
    "    points.append(p)\n",
    "    labels.append(p)\n",
    "    colors.append('red')\n",
    "    print(info.get_op_count('m3a1'))\n",
    "graphing.draw_3d_scatterplot(points, labels, colors, 800, 800, 'First Drop', 'Stop Mod', 'Stop Index', 'Collatz Address Space');"
   ]
  }
 ],
 "metadata": {
  "kernelspec": {
   "display_name": "base",
   "language": "python",
   "name": "python3"
  },
  "language_info": {
   "codemirror_mode": {
    "name": "ipython",
    "version": 3
   },
   "file_extension": ".py",
   "mimetype": "text/x-python",
   "name": "python",
   "nbconvert_exporter": "python",
   "pygments_lexer": "ipython3",
   "version": "3.11.5"
  }
 },
 "nbformat": 4,
 "nbformat_minor": 2
}
